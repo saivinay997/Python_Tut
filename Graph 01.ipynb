{
 "cells": [
  {
   "cell_type": "code",
   "execution_count": 29,
   "id": "4145e2f5",
   "metadata": {},
   "outputs": [],
   "source": [
    "class Graph:\n",
    "    def __init__(self, edges):\n",
    "        self.edges = edges\n",
    "        self.graph_dict = {}\n",
    "        for start, end in edges:\n",
    "            if start in self.graph_dict:\n",
    "                self.graph_dict[start].append(end)\n",
    "            else:\n",
    "                self.graph_dict[start] = [end]\n",
    "        print(\"Graph Dict: \", self.graph_dict)\n",
    "        \n",
    "    def get_paths(self, start, end, path=[]):\n",
    "        path = path + [start]\n",
    "        \n",
    "        if start == end:\n",
    "            return [path]\n",
    "        if start not in self.graph_dict:\n",
    "            return []\n",
    "        paths = []\n",
    "        for node in self.graph_dict[start]:\n",
    "            if node not in path:\n",
    "                new_paths = self.get_paths(node,end,path)\n",
    "                for p in new_paths:\n",
    "                    paths.append(p)\n",
    "                    \n",
    "        return paths\n",
    "    \n",
    "    \n",
    "    def get_shortest_path(self, start, end, path=[]):\n",
    "        path = path + [start]\n",
    "\n",
    "        if start == end:\n",
    "            return path\n",
    "\n",
    "        if start not in self.graph_dict:\n",
    "            return None\n",
    "\n",
    "        shortest_path = None\n",
    "        for node in self.graph_dict[start]:\n",
    "            if node not in path:\n",
    "                sp = self.get_shortest_path(node, end, path)\n",
    "                if sp:\n",
    "                    if shortest_path is None or len(sp) < len(shortest_path):\n",
    "                        shortest_path = sp\n",
    "\n",
    "        return shortest_path"
   ]
  },
  {
   "cell_type": "code",
   "execution_count": 36,
   "id": "23a2b839",
   "metadata": {},
   "outputs": [],
   "source": [
    "if __name__=='__main__':\n",
    "    routes = [\n",
    "        (\"Mumbai\",\"Pune\"),\n",
    "        (\"Mumbai\",\"Surat\"),\n",
    "        (\"Pune\",\"Hyderabad\"),\n",
    "        (\"Surat\",\"Bengaluru\"),\n",
    "        (\"Pune\",\"Mysuru\"),\n",
    "        (\"Hyderabad\",\"Bengaluru\"),\n",
    "        (\"Hyderabad\",\"Chennai\"),\n",
    "        (\"Mysuru\",\"Bengaluru\"),\n",
    "        (\"Chennai\",\"Bengaluru\"),\n",
    "        (\"Mumbai\", \"Paris\"),\n",
    "        (\"Mumbai\", \"Dubai\"),\n",
    "        (\"Paris\", \"Dubai\"),\n",
    "        (\"Paris\", \"New York\"),\n",
    "        (\"Dubai\", \"New York\"),\n",
    "        (\"New York\", \"Toronto\")\n",
    "    ]"
   ]
  },
  {
   "cell_type": "code",
   "execution_count": 37,
   "id": "509c71e7",
   "metadata": {},
   "outputs": [
    {
     "name": "stdout",
     "output_type": "stream",
     "text": [
      "Graph Dict:  {'Mumbai': ['Pune', 'Surat', 'Paris', 'Dubai'], 'Pune': ['Hyderabad', 'Mysuru'], 'Surat': ['Bengaluru'], 'Hyderabad': ['Bengaluru', 'Chennai'], 'Mysuru': ['Bengaluru'], 'Chennai': ['Bengaluru'], 'Paris': ['Dubai', 'New York'], 'Dubai': ['New York'], 'New York': ['Toronto']}\n"
     ]
    }
   ],
   "source": [
    "route_graph = Graph(routes)"
   ]
  },
  {
   "cell_type": "code",
   "execution_count": 38,
   "id": "25eb384d",
   "metadata": {},
   "outputs": [],
   "source": [
    "start = \"Mumbai\"\n",
    "end = 'Dubai'"
   ]
  },
  {
   "cell_type": "code",
   "execution_count": 39,
   "id": "7162a588",
   "metadata": {},
   "outputs": [
    {
     "name": "stdout",
     "output_type": "stream",
     "text": [
      "All paths between: Mumbai and Dubai:  [['Mumbai', 'Paris', 'Dubai'], ['Mumbai', 'Dubai']]\n"
     ]
    }
   ],
   "source": [
    "print(f'All paths between: {start} and {end}: ',route_graph.get_paths(start,end))\n"
   ]
  },
  {
   "cell_type": "code",
   "execution_count": 40,
   "id": "32628c7b",
   "metadata": {},
   "outputs": [
    {
     "name": "stdout",
     "output_type": "stream",
     "text": [
      "Shortest path between Mumbai and Dubai:  ['Mumbai', 'Dubai']\n"
     ]
    }
   ],
   "source": [
    "print(f'Shortest path between {start} and {end}: ',route_graph.get_shortest_path(start,end))"
   ]
  },
  {
   "cell_type": "code",
   "execution_count": null,
   "id": "5f519c1e",
   "metadata": {},
   "outputs": [],
   "source": []
  }
 ],
 "metadata": {
  "kernelspec": {
   "display_name": "Python 3 (ipykernel)",
   "language": "python",
   "name": "python3"
  },
  "language_info": {
   "codemirror_mode": {
    "name": "ipython",
    "version": 3
   },
   "file_extension": ".py",
   "mimetype": "text/x-python",
   "name": "python",
   "nbconvert_exporter": "python",
   "pygments_lexer": "ipython3",
   "version": "3.9.12"
  }
 },
 "nbformat": 4,
 "nbformat_minor": 5
}
