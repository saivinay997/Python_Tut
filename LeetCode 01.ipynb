{
 "cells": [
  {
   "cell_type": "markdown",
   "id": "fd2e1278",
   "metadata": {},
   "source": [
    "1. Given an array of integers nums and an integer target, return indices of the two numbers such that they add up to target.\n",
    "\n",
    "You may assume that each input would have exactly one solution, and you may not use the same element twice.\n",
    "\n",
    "You can return the answer in any order."
   ]
  },
  {
   "cell_type": "code",
   "execution_count": 14,
   "id": "5d01c76c",
   "metadata": {},
   "outputs": [],
   "source": [
    "def twoSum(nums: list[int], target: int):\n",
    "    prevMap = {} # create an hash map to store val:index\n",
    "    \n",
    "    for i, n in enumerate(nums): #iterate through the list\n",
    "        diff = target - n \n",
    "        if diff in prevMap: # check in the hash tabel\n",
    "            return [prevMap[diff],i] #if exist. return the index\n",
    "        prevMap[n] = i # else store the index to its value of list\n",
    "    return"
   ]
  },
  {
   "cell_type": "code",
   "execution_count": 16,
   "id": "fe84b627",
   "metadata": {},
   "outputs": [
    {
     "data": {
      "text/plain": [
       "[0, 2]"
      ]
     },
     "execution_count": 16,
     "metadata": {},
     "output_type": "execute_result"
    }
   ],
   "source": [
    "nums = [2,7,11,15]\n",
    "\n",
    "twoSum(nums, 13)"
   ]
  },
  {
   "cell_type": "code",
   "execution_count": 18,
   "id": "3b9d9d50",
   "metadata": {},
   "outputs": [],
   "source": [
    "def merge(nums1:list[int], m, nums2: list[int], n):\n",
    "    i = m - 1\n",
    "    j = n - 1\n",
    "    k = m+n-1\n",
    "    while j >= 0:\n",
    "        if i >= 0 and nums1[i] > nums2[j]:\n",
    "            nums1[k] = nums2[i]\n",
    "            k -= 1\n",
    "            i -= 1\n",
    "        else:\n",
    "            nums1[k] = nums2[j]\n",
    "            k -= 1\n",
    "            j -= 1"
   ]
  },
  {
   "cell_type": "markdown",
   "id": "3a01d25f",
   "metadata": {},
   "source": [
    "2. You are given two integer arrays nums1 and nums2, sorted in non-decreasing order, and two integers m and n, representing the number of elements in nums1 and nums2 respectively.\n",
    "\n",
    "Merge nums1 and nums2 into a single array sorted in non-decreasing order.\n",
    "\n",
    "The final sorted array should not be returned by the function, but instead be stored inside the array nums1. To accommodate this, nums1 has a length of m + n, where the first m elements denote the elements that should be merged, and the last n elements are set to 0 and should be ignored. nums2 has a length of n."
   ]
  },
  {
   "cell_type": "code",
   "execution_count": 1,
   "id": "25eeee0c",
   "metadata": {},
   "outputs": [],
   "source": [
    "def merge(nums1: list[int],m, nums2: list[int],n):\n",
    "    i = m-1\n",
    "    j = n-1\n",
    "    k = m+n-1\n",
    "    #arr= [0]*(k+1)\n",
    "    while j >= 0 :\n",
    "        if i >=0 and nums1[i]> nums2[j]:\n",
    "            nums1[k] = nums1[i]\n",
    "            i -= 1\n",
    "            k -= 1\n",
    "        else:\n",
    "            nums1[k] = nums2[j]\n",
    "            j -= 1\n",
    "            k -= 1\n",
    "    "
   ]
  },
  {
   "cell_type": "code",
   "execution_count": 4,
   "id": "aca90907",
   "metadata": {},
   "outputs": [
    {
     "name": "stdout",
     "output_type": "stream",
     "text": [
      "[1, 2, 2, 3, 5, 6]\n"
     ]
    }
   ],
   "source": [
    "nums1 = [1,2,3,0,0,0]\n",
    "m = 3 \n",
    "nums2 = [2,5,6]\n",
    "n = 3\n",
    "merge(nums1, m, nums2, n)\n",
    "print(nums1)"
   ]
  },
  {
   "cell_type": "markdown",
   "id": "0016a4ce",
   "metadata": {},
   "source": [
    "3. Given two integer arrays nums1 and nums2, return an array of their intersection. Each element in the result must appear as many times as it shows in both arrays and you may return the result in any order."
   ]
  },
  {
   "cell_type": "code",
   "execution_count": 24,
   "id": "3be58c61",
   "metadata": {},
   "outputs": [],
   "source": [
    "def intersect(nums1, nums2):\n",
    "    arr = []\n",
    "    lst = []\n",
    "    \n",
    "    for i in range(len(nums1)):\n",
    "        j=0\n",
    "        while len(nums2) == 0:\n",
    "            if nums1[i] == nums2[j]:\n",
    "                \n",
    "                arr.append(nums2.pop(j))\n",
    "            else:\n",
    "                nums2.append(nums2.pop(j))\n",
    "    return arr"
   ]
  },
  {
   "cell_type": "code",
   "execution_count": 25,
   "id": "bcb08602",
   "metadata": {},
   "outputs": [
    {
     "data": {
      "text/plain": [
       "[]"
      ]
     },
     "execution_count": 25,
     "metadata": {},
     "output_type": "execute_result"
    }
   ],
   "source": [
    "nums1 = [1,2,2,1]\n",
    "nums2 = [2,2]\n",
    "intersect(nums1, nums2)"
   ]
  },
  {
   "cell_type": "code",
   "execution_count": 21,
   "id": "72fb0bb1",
   "metadata": {},
   "outputs": [
    {
     "name": "stdout",
     "output_type": "stream",
     "text": [
      "<built-in method count of list object at 0x000001A21BA65F40>\n"
     ]
    }
   ],
   "source": [
    "lst = []\n",
    "print(lst.count)"
   ]
  },
  {
   "cell_type": "code",
   "execution_count": 35,
   "id": "30e1180c",
   "metadata": {},
   "outputs": [],
   "source": [
    "def intersection(nums1,nums2):\n",
    "    sort_arr1 = sorted(nums1)\n",
    "    sort_arr2 = sorted(nums2)\n",
    "    i,j = 0,0\n",
    "    arr = []\n",
    "    while i < len(sort_arr1) and j < len(sort_arr2):\n",
    "        if sort_arr1[i] < sort_arr2[j]:\n",
    "            i+=1\n",
    "        elif sort_arr1[i] > sort_arr2[j]:\n",
    "            j+=1\n",
    "        else:\n",
    "            arr.append(sort_arr1[i])\n",
    "            i += 1\n",
    "            j +=1\n",
    "            \n",
    "    return arr"
   ]
  },
  {
   "cell_type": "code",
   "execution_count": 36,
   "id": "8ec9df40",
   "metadata": {},
   "outputs": [
    {
     "data": {
      "text/plain": [
       "[2, 2]"
      ]
     },
     "execution_count": 36,
     "metadata": {},
     "output_type": "execute_result"
    }
   ],
   "source": [
    "nums1 = [1,2,2,1]\n",
    "nums2 = [2,2]\n",
    "\n",
    "intersection(nums1, nums2)"
   ]
  },
  {
   "cell_type": "code",
   "execution_count": 32,
   "id": "611a4487",
   "metadata": {},
   "outputs": [
    {
     "name": "stdout",
     "output_type": "stream",
     "text": [
      "None\n"
     ]
    }
   ],
   "source": [
    "nums1 = [1,2,2,1]\n",
    "n = nums1.sort()\n",
    "print(n)"
   ]
  },
  {
   "cell_type": "code",
   "execution_count": 44,
   "id": "15aaf221",
   "metadata": {},
   "outputs": [],
   "source": [
    "def intersect_dict(nums1, nums2):\n",
    "    counts = {}\n",
    "    result = []\n",
    "    \n",
    "    for num in nums1:\n",
    "        counts[num] = counts.get(num, 0) +1\n",
    "        \n",
    "    for num in nums2:\n",
    "        if num in counts and counts[num] > 0:\n",
    "            result.append(num)\n",
    "            counts[num] -=1\n",
    "    return result"
   ]
  },
  {
   "cell_type": "code",
   "execution_count": 45,
   "id": "e9074c3b",
   "metadata": {},
   "outputs": [
    {
     "data": {
      "text/plain": [
       "[2, 2, 3, 3, 2]"
      ]
     },
     "execution_count": 45,
     "metadata": {},
     "output_type": "execute_result"
    }
   ],
   "source": [
    "nums1 = [1,2,2,2,3,3,1]\n",
    "nums2 = [2,2,3,3,2,2,2]\n",
    "\n",
    "intersect_dict(nums1, nums2)"
   ]
  },
  {
   "cell_type": "code",
   "execution_count": 46,
   "id": "1b118f14",
   "metadata": {},
   "outputs": [],
   "source": [
    "def intersect_counter(nums1, nums2):\n",
    "    counts = collections.Counter(nums1)\n",
    "    result = []\n",
    "    \n",
    "    for num in nums2:\n",
    "        if count[num]>0:\n",
    "            result += num \n",
    "#\"res+=num,\" appends by reference (new list pointing to the original res and also to num) \n",
    "#while \"res.append(num)\" is actually modifying the list that res points to.\n",
    "            counts[num] -= 1\n",
    "    return result"
   ]
  },
  {
   "cell_type": "code",
   "execution_count": 47,
   "id": "e156ed6c",
   "metadata": {},
   "outputs": [
    {
     "data": {
      "text/plain": [
       "[2, 2, 3, 3, 2]"
      ]
     },
     "execution_count": 47,
     "metadata": {},
     "output_type": "execute_result"
    }
   ],
   "source": [
    "nums1 = [1,2,2,2,3,3,1]\n",
    "nums2 = [2,2,3,3,2,2,2]\n",
    "\n",
    "intersect_dict(nums1, nums2)"
   ]
  },
  {
   "cell_type": "markdown",
   "id": "5e01a6fe",
   "metadata": {},
   "source": [
    "4. You are given an array prices where prices[i] is the price of a given stock on the ith day.\n",
    "\n",
    "You want to maximize your profit by choosing a single day to buy one stock and choosing a different day in the future to sell that stock.\n",
    "\n",
    "Return the maximum profit you can achieve from this transaction. If you cannot achieve any profit, return 0."
   ]
  },
  {
   "cell_type": "code",
   "execution_count": 4,
   "id": "747e9daf",
   "metadata": {},
   "outputs": [
    {
     "data": {
      "text/plain": [
       "False"
      ]
     },
     "execution_count": 4,
     "metadata": {},
     "output_type": "execute_result"
    }
   ],
   "source": [
    "p = [7,1,5,3,6,4]\n",
    "r = p.index(max(p))\n",
    "s = p.index(min(p))\n",
    "r>s"
   ]
  },
  {
   "cell_type": "code",
   "execution_count": 1,
   "id": "e694ec63",
   "metadata": {},
   "outputs": [],
   "source": [
    "def maxProfit(price):\n",
    "    result = 0\n",
    "    l = len(price)\n",
    "    while l > 1:\n",
    "        max_index = price.index(max(price))\n",
    "        min_index = price.index(min(price))\n",
    "        if max_index < min_index:\n",
    "            price.pop(max_index)\n",
    "            l-=1\n",
    "        elif max_index > min_index:\n",
    "            result =  max(price) - min(price)\n",
    "            break\n",
    "        \n",
    "    return result"
   ]
  },
  {
   "cell_type": "code",
   "execution_count": 2,
   "id": "70e02f30",
   "metadata": {},
   "outputs": [
    {
     "ename": "NameError",
     "evalue": "name 'p' is not defined",
     "output_type": "error",
     "traceback": [
      "\u001b[1;31m---------------------------------------------------------------------------\u001b[0m",
      "\u001b[1;31mNameError\u001b[0m                                 Traceback (most recent call last)",
      "Input \u001b[1;32mIn [2]\u001b[0m, in \u001b[0;36m<cell line: 1>\u001b[1;34m()\u001b[0m\n\u001b[1;32m----> 1\u001b[0m maxProfit(\u001b[43mp\u001b[49m)\n",
      "\u001b[1;31mNameError\u001b[0m: name 'p' is not defined"
     ]
    }
   ],
   "source": [
    "maxProfit(p)"
   ]
  },
  {
   "cell_type": "code",
   "execution_count": 3,
   "id": "d4142d9c",
   "metadata": {},
   "outputs": [
    {
     "data": {
      "text/plain": [
       "0"
      ]
     },
     "execution_count": 3,
     "metadata": {},
     "output_type": "execute_result"
    }
   ],
   "source": [
    "pr = [7,6,4,3,1]\n",
    "maxProfit(pr)"
   ]
  },
  {
   "cell_type": "code",
   "execution_count": 5,
   "id": "8ed53781",
   "metadata": {},
   "outputs": [],
   "source": [
    "def maxProfit_1(price):\n",
    "    profit = 0\n",
    "    low = float('inf')\n",
    "    for i in price:\n",
    "        if low>i:\n",
    "            low = i\n",
    "        elif i - low > profit:\n",
    "            profit = i - low\n",
    "    return profit"
   ]
  },
  {
   "cell_type": "code",
   "execution_count": 6,
   "id": "129c2b0d",
   "metadata": {},
   "outputs": [
    {
     "data": {
      "text/plain": [
       "0"
      ]
     },
     "execution_count": 6,
     "metadata": {},
     "output_type": "execute_result"
    }
   ],
   "source": [
    "pr = [7,6,4,3,1]\n",
    "maxProfit_1(pr)"
   ]
  },
  {
   "cell_type": "markdown",
   "id": "819f1808",
   "metadata": {},
   "source": [
    "5. construct a binary tree\n"
   ]
  },
  {
   "cell_type": "code",
   "execution_count": 16,
   "id": "bd614c92",
   "metadata": {},
   "outputs": [],
   "source": [
    "class BSTreeNode:\n",
    "    def __init__ (self, data = 0, left=None, right=None):\n",
    "        self.data = data\n",
    "        self.left = left\n",
    "        self.right = right\n",
    "    \n",
    "    def add_child(self,data):\n",
    "        if data == self.data:\n",
    "            return\n",
    "        if data<self.data:\n",
    "            if self.left:\n",
    "                self.left.add_child(data)\n",
    "            else:\n",
    "                self.left = BSTreeNode(data)\n",
    "        else:\n",
    "            if self.right:\n",
    "                self.right.add_child(data)\n",
    "            else:\n",
    "                self.right = BSTreeNode(data)\n",
    "                \n",
    "    def search(self,val):\n",
    "        if self.data == val:\n",
    "            return True\n",
    "        if val < self.data:\n",
    "            if self.left:\n",
    "                return self.left.search(val)\n",
    "            else:\n",
    "                return False\n",
    "            \n",
    "        if val > self.data:\n",
    "            if self.right:\n",
    "                return self.right.search(val)\n",
    "            else:\n",
    "                return False\n",
    "            \n",
    "    def inorder(self,vals):\n",
    "        \n",
    "        if self.left:\n",
    "            self.left.inorder(vals)\n",
    "        if self.data:\n",
    "            vals.append(self.data)\n",
    "        if self.right:\n",
    "            self.right.inorder(vals)\n",
    "        return vals\n",
    "    \n",
    "    def preorder(self, vals):\n",
    "        \n",
    "        if self.data:\n",
    "            vals.append(self.data)\n",
    "        if self.left:\n",
    "            self.left.preorder(vals)\n",
    "        if self.right:\n",
    "            self.right.preorder(vals)\n",
    "        return vals\n",
    "    \n",
    "    def postorder(self, vals):\n",
    "        \n",
    "        if self.left:\n",
    "            self.left.postorder(vals)\n",
    "        if self.right:\n",
    "            self.right.postorder(vals)\n",
    "        if self.data:\n",
    "            vals.append(self.data)\n",
    "        return vals\n",
    "    \n",
    "    def get_max(self):\n",
    "        while self.right:\n",
    "            self.right.get_max()\n",
    "        return self.data\n",
    "    \n",
    "    def get_min(self):\n",
    "        while self.left:\n",
    "            self.left.get_min()\n",
    "        return self.data\n",
    "    \n",
    "    def delete_1(self,val):\n",
    "        if self ==  None:\n",
    "            return self\n",
    "        if val < self.data:\n",
    "            if self.left:\n",
    "                self.left = self.left.delete(val)\n",
    "            return self\n",
    "        if val > self.data:\n",
    "            if self.right:\n",
    "                self.right = self.right.delete(val)\n",
    "            return self\n",
    "        if self.right == None:\n",
    "            return self.left\n",
    "        if self.left == None:\n",
    "            return self.right\n",
    "        \n",
    "        min_large_node = self.right\n",
    "        \n",
    "        while min_large_node.left:\n",
    "            min_large_node = min_large_node.left\n",
    "            \n",
    "        self.val = min_large_node.val\n",
    "        self.right = self.right.delete(min_large_node.val)\n",
    "        return self\n",
    "    \n",
    "    def delete(self, val):\n",
    "        if val < self.data:\n",
    "            self.left.delete(val)\n",
    "        elif val > self.data:\n",
    "            self.right.delete(val)\n",
    "        else:\n",
    "            if self.left is None and self.right is None:\n",
    "                return None\n",
    "            if self.left is None:\n",
    "                return self.right\n",
    "            if self.right is None:\n",
    "                return self.left\n",
    "            \n",
    "            min_val = self.right.get_min()\n",
    "            self.data = min_value\n",
    "            self.right = self.right.delete(min_val)\n",
    "            \n",
    "        return self\n",
    "    \n",
    "    \n",
    "        "
   ]
  },
  {
   "cell_type": "code",
   "execution_count": 17,
   "id": "646823f6",
   "metadata": {},
   "outputs": [],
   "source": [
    "nums = [12, 6, 18, 19, 21, 11, 3, 5, 4, 24, 18]"
   ]
  },
  {
   "cell_type": "code",
   "execution_count": 18,
   "id": "6b6f9487",
   "metadata": {},
   "outputs": [],
   "source": [
    "bst = BSTreeNode()"
   ]
  },
  {
   "cell_type": "code",
   "execution_count": 19,
   "id": "ffa811c9",
   "metadata": {},
   "outputs": [],
   "source": [
    "for n in nums:\n",
    "    bst.add_child(n)"
   ]
  },
  {
   "cell_type": "code",
   "execution_count": 20,
   "id": "b74e29f6",
   "metadata": {},
   "outputs": [
    {
     "data": {
      "text/plain": [
       "[3, 4, 5, 6, 11, 12, 18, 19, 21, 24]"
      ]
     },
     "execution_count": 20,
     "metadata": {},
     "output_type": "execute_result"
    }
   ],
   "source": [
    "vals = []\n",
    "bst.inorder(vals)"
   ]
  },
  {
   "cell_type": "code",
   "execution_count": 22,
   "id": "bba17c2f",
   "metadata": {},
   "outputs": [
    {
     "data": {
      "text/plain": [
       "[4, 5, 3, 11, 6, 24, 21, 19, 18, 12]"
      ]
     },
     "execution_count": 22,
     "metadata": {},
     "output_type": "execute_result"
    }
   ],
   "source": [
    "vals = []\n",
    "bst.postorder(vals)"
   ]
  },
  {
   "cell_type": "code",
   "execution_count": 24,
   "id": "42ff755f",
   "metadata": {},
   "outputs": [
    {
     "data": {
      "text/plain": [
       "[12, 6, 3, 5, 4, 11, 18, 19, 21, 24]"
      ]
     },
     "execution_count": 24,
     "metadata": {},
     "output_type": "execute_result"
    }
   ],
   "source": [
    "vals = []\n",
    "bst.preorder(vals)"
   ]
  },
  {
   "cell_type": "code",
   "execution_count": null,
   "id": "74bdbce2",
   "metadata": {},
   "outputs": [],
   "source": []
  },
  {
   "cell_type": "code",
   "execution_count": null,
   "id": "90de8736",
   "metadata": {},
   "outputs": [],
   "source": []
  }
 ],
 "metadata": {
  "kernelspec": {
   "display_name": "Python 3 (ipykernel)",
   "language": "python",
   "name": "python3"
  },
  "language_info": {
   "codemirror_mode": {
    "name": "ipython",
    "version": 3
   },
   "file_extension": ".py",
   "mimetype": "text/x-python",
   "name": "python",
   "nbconvert_exporter": "python",
   "pygments_lexer": "ipython3",
   "version": "3.9.12"
  }
 },
 "nbformat": 4,
 "nbformat_minor": 5
}
