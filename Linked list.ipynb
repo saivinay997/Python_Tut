{
 "cells": [
  {
   "cell_type": "code",
   "execution_count": 12,
   "id": "0c6a75dd",
   "metadata": {},
   "outputs": [],
   "source": [
    "class Node:\n",
    "    \n",
    "    def __init__(self,data=None, next=None):\n",
    "        self.data = data\n",
    "        self.next = next\n",
    "        \n",
    "class Linked_List:\n",
    "    \n",
    "    def __init__(self):\n",
    "        self.head = None\n",
    "        \n",
    "    def print_list(self):\n",
    "        if self.head is None:\n",
    "            print(\"Linked list is empty.\")\n",
    "            return\n",
    "        itr = self.head\n",
    "        llstr = ''\n",
    "        while itr:\n",
    "            llstr += str(itr.data)+\"-->\"if itr.next else str(itr.data)\n",
    "            itr = itr.next\n",
    "        print(llstr)\n",
    "        \n",
    "    def get_length(self):\n",
    "        count = 0\n",
    "        itr = self.head\n",
    "        while itr:\n",
    "            count += 1\n",
    "            itr = itr.next\n",
    "            \n",
    "        return count\n",
    "    \n",
    "    def insert_at_begining(self,data):\n",
    "        node = Node(data,self.head)\n",
    "        self.head = node\n",
    "        \n",
    "    def insert_at_end(self, data):\n",
    "        if self.head is None:\n",
    "            self.head = Node(data,None)\n",
    "            return\n",
    "        \n",
    "        itr = self.head\n",
    "        \n",
    "        while itr.next:\n",
    "            itr = itr.next\n",
    "            \n",
    "        itr.next = Node(data, None)\n",
    "        \n",
    "    def insert_at(self,index,data):\n",
    "        if index<0 or index>self.get_length():\n",
    "            raise Exception(\"Invalid Index\")\n",
    "            \n",
    "        if index == 0:\n",
    "            self.insert_at_begining(data)\n",
    "            return\n",
    "        \n",
    "        count = 0\n",
    "        itr = self.head\n",
    "        while itr:\n",
    "            if count == index-1:\n",
    "                node = Node(data,itr.next)\n",
    "                itr.next = node\n",
    "                break\n",
    "                \n",
    "            itr = itr.next\n",
    "            count += 1\n",
    "            \n",
    "    def remove_at(self,index):\n",
    "        if index<0 or index>=self.get_length():\n",
    "            raise Exception(\"Invalid Index\")\n",
    "            \n",
    "        if index == 0:\n",
    "            self.head = self.head.next\n",
    "            return\n",
    "        \n",
    "        count = 0\n",
    "        itr = self.head\n",
    "        while itr:\n",
    "            if count == index-1:\n",
    "                itr.next = itr.next.next\n",
    "                break\n",
    "                \n",
    "            itr = itr.next\n",
    "            count += 1\n",
    "            \n",
    "    def insert_values(self,data_list):\n",
    "        self.head = None\n",
    "        for data in data_list:\n",
    "            self.insert_at_end(data)"
   ]
  },
  {
   "cell_type": "code",
   "execution_count": 13,
   "id": "7d96e6fe",
   "metadata": {},
   "outputs": [
    {
     "name": "stdout",
     "output_type": "stream",
     "text": [
      "banana-->mango-->grapes-->orange\n"
     ]
    }
   ],
   "source": [
    "if __name__ == '__main__':\n",
    "    ll = Linked_List()\n",
    "    ll.insert_values([\"banana\",\"mango\",\"grapes\",\"orange\"])\n",
    "    ll.print_list()"
   ]
  },
  {
   "cell_type": "code",
   "execution_count": 14,
   "id": "d1290e46",
   "metadata": {},
   "outputs": [
    {
     "name": "stdout",
     "output_type": "stream",
     "text": [
      "banana-->Blueberry-->mango-->grapes-->orange\n"
     ]
    }
   ],
   "source": [
    "ll.insert_at(1,\"Blueberry\")\n",
    "ll.print_list()"
   ]
  },
  {
   "cell_type": "code",
   "execution_count": 15,
   "id": "9c8fb24c",
   "metadata": {},
   "outputs": [
    {
     "name": "stdout",
     "output_type": "stream",
     "text": [
      "banana-->Blueberry-->grapes-->orange\n"
     ]
    }
   ],
   "source": [
    "ll.remove_at(2)\n",
    "ll.print_list()"
   ]
  },
  {
   "cell_type": "code",
   "execution_count": null,
   "id": "0f8f69a9",
   "metadata": {},
   "outputs": [],
   "source": []
  }
 ],
 "metadata": {
  "kernelspec": {
   "display_name": "Python 3 (ipykernel)",
   "language": "python",
   "name": "python3"
  },
  "language_info": {
   "codemirror_mode": {
    "name": "ipython",
    "version": 3
   },
   "file_extension": ".py",
   "mimetype": "text/x-python",
   "name": "python",
   "nbconvert_exporter": "python",
   "pygments_lexer": "ipython3",
   "version": "3.9.12"
  }
 },
 "nbformat": 4,
 "nbformat_minor": 5
}
