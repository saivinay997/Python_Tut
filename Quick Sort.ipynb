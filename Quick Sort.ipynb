{
 "cells": [
  {
   "cell_type": "code",
   "execution_count": 13,
   "id": "392dd0ba",
   "metadata": {},
   "outputs": [],
   "source": [
    "def swap (a,b,arr): # for swaping the elements in th array\n",
    "    if a!=b:\n",
    "        temp = arr[a]\n",
    "        arr[a] = arr[b]\n",
    "        arr[b] = temp\n",
    "        \n",
    "def quick_sort(elements,start, end):\n",
    "    \n",
    "    if start < end:\n",
    "        pi = partition(elements, start, end)\n",
    "        quick_sort(elements, start,pi-1) \n",
    "        quick_sort(elements, pi+1, end)\n",
    "        #print(elements)\n",
    "        \n",
    "        \n",
    "# Sorting by Hoare partition scheme\n",
    "        \n",
    "def partition(elements, start, end):\n",
    "    pivot_index = start          # Selecting the first element of the array for pivot element\n",
    "    pivot = elements[pivot_index]\n",
    "    \n",
    "    while start<end:\n",
    "        while start<len(elements) and elements[start]<=pivot: # Move the start pointer untill you find an element greater than pivot\n",
    "            start+=1\n",
    "            \n",
    "        while elements[end]>pivot: # Move the end pointer untill you find an element less than pivot\n",
    "            end-=1\n",
    "            \n",
    "        if start < end:# then swap the start indexed element with end indexed element\n",
    "            swap(start, end, elements)\n",
    "    # when end pointer and start pointer crosses       \n",
    "    swap(pivot_index, end, elements) #then swap the pivot element with end indexed element\n",
    "    \n",
    "    return end"
   ]
  },
  {
   "cell_type": "code",
   "execution_count": 14,
   "id": "ec14527e",
   "metadata": {},
   "outputs": [
    {
     "name": "stdout",
     "output_type": "stream",
     "text": [
      "[2, 7, 9, 11, 29, 15, 28]\n",
      "[2, 7, 9, 11, 15, 28, 29]\n",
      "[2, 7, 9, 11, 15, 28, 29]\n",
      "[2, 7, 9, 11, 15, 28, 29]\n",
      "[2, 7, 9, 11, 15, 28, 29]\n"
     ]
    }
   ],
   "source": [
    "A = [11,9,29,7,2,15,28]\n",
    "quick_sort(A,0,len(A)-1)\n",
    "print(A)"
   ]
  },
  {
   "cell_type": "code",
   "execution_count": 9,
   "id": "06019bdc",
   "metadata": {},
   "outputs": [],
   "source": [
    "test=[\n",
    "    [11,9,29,7,2,15,28],\n",
    "    [3,7,9,11],\n",
    "    [25,22,21,10],\n",
    "    [],\n",
    "    [6]\n",
    "]"
   ]
  },
  {
   "cell_type": "code",
   "execution_count": 10,
   "id": "194e029e",
   "metadata": {},
   "outputs": [
    {
     "name": "stdout",
     "output_type": "stream",
     "text": [
      "Sorted Array: [2, 7, 9, 11, 15, 28, 29]\n",
      "Sorted Array: [3, 7, 9, 11]\n",
      "Sorted Array: [10, 21, 22, 25]\n",
      "Sorted Array: []\n",
      "Sorted Array: [6]\n"
     ]
    }
   ],
   "source": [
    "for elements in test:\n",
    "    quick_sort(elements,0,len(elements)-1)\n",
    "    print(f'Sorted Array: {elements}')"
   ]
  },
  {
   "cell_type": "code",
   "execution_count": null,
   "id": "df7f9e23",
   "metadata": {},
   "outputs": [],
   "source": []
  }
 ],
 "metadata": {
  "kernelspec": {
   "display_name": "Python 3 (ipykernel)",
   "language": "python",
   "name": "python3"
  },
  "language_info": {
   "codemirror_mode": {
    "name": "ipython",
    "version": 3
   },
   "file_extension": ".py",
   "mimetype": "text/x-python",
   "name": "python",
   "nbconvert_exporter": "python",
   "pygments_lexer": "ipython3",
   "version": "3.9.12"
  }
 },
 "nbformat": 4,
 "nbformat_minor": 5
}
